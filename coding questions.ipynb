{
 "cells": [
  {
   "cell_type": "markdown",
   "id": "7ec2541b-f531-42b8-a412-3789ef5db099",
   "metadata": {},
   "source": [
    "# 1. Write a Python program to check if a string is a palindrome"
   ]
  },
  {
   "cell_type": "code",
   "execution_count": null,
   "id": "6a096fda-ce19-454b-80a9-246344606d4c",
   "metadata": {},
   "outputs": [],
   "source": [
    "#meaning\n",
    "palindrome = a word, phrase, or sequence that reads the same backwards as forwards, e.g. madam or nurses run. "
   ]
  },
  {
   "cell_type": "code",
   "execution_count": 10,
   "id": "15cc232f-48ac-4184-b2aa-8d873d6d4dc8",
   "metadata": {},
   "outputs": [
    {
     "name": "stdin",
     "output_type": "stream",
     "text": [
      "enter anything:-  vinod\n"
     ]
    },
    {
     "name": "stdout",
     "output_type": "stream",
     "text": [
      "vinod it is not palindrome!\n"
     ]
    }
   ],
   "source": [
    "str = input(\"enter anything:- \")\n",
    "#reversing a string\n",
    "\n",
    "reversestring = (str[::-1])\n",
    "\n",
    "if str == reversestring:\n",
    "    print(str,\"it is a palindrome!\")\n",
    "else:\n",
    "    print(str,\"it is not palindrome!\")"
   ]
  },
  {
   "cell_type": "markdown",
   "id": "c23f773c-2a1a-48a0-93bf-7e788c15aebe",
   "metadata": {},
   "source": [
    "# 2. Write a Python program to find the factorial of a number. "
   ]
  },
  {
   "cell_type": "code",
   "execution_count": 13,
   "id": "7354500f-f183-456b-8418-a05bfc51c725",
   "metadata": {},
   "outputs": [
    {
     "name": "stdin",
     "output_type": "stream",
     "text": [
      "Enter a number:  9\n"
     ]
    },
    {
     "name": "stdout",
     "output_type": "stream",
     "text": [
      "9 = 362880\n"
     ]
    }
   ],
   "source": [
    "num = int(input(\"Enter a number: \"))\n",
    "factorial = 1\n",
    "\n",
    "if num < 0:\n",
    "    print(\"No factorial for negative numbers\")\n",
    "elif num == 0:\n",
    "    print(\"Factorial is 1\")\n",
    "else:\n",
    "    for i in range(1, num + 1):\n",
    "        factorial *= i\n",
    "    print(num ,\"=\",factorial)\n"
   ]
  },
  {
   "cell_type": "code",
   "execution_count": 15,
   "id": "1bea1b00-d67f-402e-82db-eb638f02fa3d",
   "metadata": {},
   "outputs": [
    {
     "name": "stdin",
     "output_type": "stream",
     "text": [
      "enter a number:-  8\n"
     ]
    },
    {
     "name": "stdout",
     "output_type": "stream",
     "text": [
      "40320\n"
     ]
    }
   ],
   "source": [
    "def factorial(num):  #using functions\n",
    "    if num==0:\n",
    "        return 1\n",
    "    else:\n",
    "        return num*factorial(num-1)\n",
    "\n",
    "num = int(input(\"enter a number:- \"))\n",
    "print(factorial(num))"
   ]
  },
  {
   "cell_type": "markdown",
   "id": "89694460-e4b0-40d4-8e22-fadc6b2f237c",
   "metadata": {},
   "source": [
    "# 3. Write a Python program to find the largest element in a list. "
   ]
  },
  {
   "cell_type": "code",
   "execution_count": 26,
   "id": "f4e0769b-1a17-4cb8-a238-be1771d79b45",
   "metadata": {},
   "outputs": [
    {
     "name": "stdin",
     "output_type": "stream",
     "text": [
      "enter a list 10,20,30\n"
     ]
    },
    {
     "name": "stdout",
     "output_type": "stream",
     "text": [
      "[10, 20, 30]\n",
      "30\n"
     ]
    }
   ],
   "source": [
    "user = input(\"enter a list\")\n",
    "\n",
    "list = [int(x) for x in user.split(',')]\n",
    "print(list)\n",
    "my_list = max(list)\n",
    "print(my_list)"
   ]
  },
  {
   "cell_type": "markdown",
   "id": "2c18a45b-a84f-48e0-9f74-4ad0f5045d89",
   "metadata": {},
   "source": [
    "# 4. Write a Python program to reverse a string. "
   ]
  },
  {
   "cell_type": "code",
   "execution_count": 31,
   "id": "b190ccf5-9d12-4f37-8c81-10b548a06332",
   "metadata": {},
   "outputs": [
    {
     "name": "stdin",
     "output_type": "stream",
     "text": [
      "enter a string:-  vinod\n"
     ]
    },
    {
     "name": "stdout",
     "output_type": "stream",
     "text": [
      "doniv\n"
     ]
    }
   ],
   "source": [
    "user = input(\"enter a string:- \")\n",
    "print(user[::-1])"
   ]
  },
  {
   "cell_type": "markdown",
   "id": "e81dfd2e-fa34-4c4e-9c42-514695b77f90",
   "metadata": {},
   "source": [
    "# 5. Write a Python program to count the frequency of each element in a list. "
   ]
  },
  {
   "cell_type": "code",
   "execution_count": 13,
   "id": "b0988f4d-521a-49ee-84b3-38b685c93fb0",
   "metadata": {},
   "outputs": [
    {
     "name": "stdin",
     "output_type": "stream",
     "text": [
      "enter a list 1,1,1,2,2,2,2,2,2,3,3,3,3,3\n"
     ]
    },
    {
     "name": "stdout",
     "output_type": "stream",
     "text": [
      "input:-  {'1': 3, ',': 13, '2': 6, '3': 5}\n"
     ]
    }
   ],
   "source": [
    "user = input(\"enter a list\")    #dynamic\n",
    "\n",
    "list = [int(x) for x in user.split(',')]\n",
    "frequency={}\n",
    "\n",
    "for items in user:\n",
    "    if items in frequency:\n",
    "        frequency[items] += 1\n",
    "    else:\n",
    "        frequency[items] = 1\n",
    "\n",
    "print(\"input:- \",frequency)"
   ]
  },
  {
   "cell_type": "code",
   "execution_count": 15,
   "id": "0c065107-bc57-4db0-ace7-1aecfbe6a641",
   "metadata": {},
   "outputs": [
    {
     "name": "stdout",
     "output_type": "stream",
     "text": [
      "input:-  {'vinod': 2, 'raji': 1, 'pavan': 2, 'adhya': 2}\n"
     ]
    }
   ],
   "source": [
    "user = [\"vinod\",\"vinod\",\"raji\",\"pavan\",\"pavan\",\"adhya\",\"adhya\"] #static\n",
    "frequency={}\n",
    "\n",
    "for items in user:\n",
    "    if items in frequency:\n",
    "        frequency[items] += 1\n",
    "    else:\n",
    "        frequency[items] = 1\n",
    "\n",
    "print(\"input:- \",frequency)"
   ]
  },
  {
   "cell_type": "markdown",
   "id": "5e1df9d1-abc6-40a5-854d-c07f53d555bf",
   "metadata": {},
   "source": [
    "# 6. Write a Python program to check if a number is prime. "
   ]
  },
  {
   "cell_type": "code",
   "execution_count": 68,
   "id": "017a74ee-ccd8-41af-9ece-2a0b355c9434",
   "metadata": {},
   "outputs": [
    {
     "name": "stdin",
     "output_type": "stream",
     "text": [
      "enter a number:-   449\n"
     ]
    },
    {
     "name": "stdout",
     "output_type": "stream",
     "text": [
      "449 prime\n"
     ]
    }
   ],
   "source": [
    "user = int(input(\"enter a number:-  \"))\n",
    "\n",
    "if user % 2 and user % 3 and user % 5:\n",
    "    print(user,\"prime\")\n",
    "else:\n",
    "    print(user,\"not prime \")"
   ]
  },
  {
   "cell_type": "markdown",
   "id": "91a4afbe-4bd1-4de2-adb1-0287ac95e428",
   "metadata": {},
   "source": [
    "# 7.Write a Python program to find the common elements between two lists."
   ]
  },
  {
   "cell_type": "code",
   "execution_count": 19,
   "id": "73f52c7e-6a45-46f2-8433-ec163a4da87f",
   "metadata": {},
   "outputs": [
    {
     "name": "stdin",
     "output_type": "stream",
     "text": [
      "enter a items in first list:-   vinod,pavan,raji,adhya\n",
      "enter a items in second list:-  raji,pavan\n"
     ]
    },
    {
     "name": "stdout",
     "output_type": "stream",
     "text": [
      "common elements:-  {'pavan', 'raji'}\n"
     ]
    }
   ],
   "source": [
    "list_1 = input(\"enter a items in first list:-  \")\n",
    "set_1 = [str(x) for x in list_1.split(',') ]\n",
    "list_2 = input(\"enter a items in second list:- \")\n",
    "set_2 = [str(x) for x in list_2.split(',') ]\n",
    "a=set(set_1)\n",
    "b=set(set_2)\n",
    "c=a.intersection(b)\n",
    "print(\"common elements:- \",c)"
   ]
  },
  {
   "cell_type": "markdown",
   "id": "2dcb15d4-4939-44e4-bd54-122995a20f97",
   "metadata": {},
   "source": [
    "# 8.  Write a Python program to remove duplicates from a list. "
   ]
  },
  {
   "cell_type": "code",
   "execution_count": 21,
   "id": "eeafa2f6-0398-486f-aed2-789a86dfa09f",
   "metadata": {},
   "outputs": [
    {
     "name": "stdin",
     "output_type": "stream",
     "text": [
      "enter numbers:-  1,1,22,2,11,22,2\n"
     ]
    },
    {
     "name": "stdout",
     "output_type": "stream",
     "text": [
      "no duplicates:- [1, 2, 11, 22]\n"
     ]
    }
   ],
   "source": [
    "user = input(\"enter numbers:-\")\n",
    "number = [int(x) for x in user.split(',')]\n",
    "\n",
    "a= set(number)\n",
    "b= list(a)\n",
    "print(\"no duplicates:-\",b)"
   ]
  },
  {
   "cell_type": "markdown",
   "id": "79ea8057-4a37-4aa9-a2fd-999983e8ba7b",
   "metadata": {},
   "source": [
    "# 9. Write a python program to Counting Vowels in Word. "
   ]
  },
  {
   "cell_type": "code",
   "execution_count": 11,
   "id": "3280ae43-3528-4c32-9bf5-d9b1069f4303",
   "metadata": {},
   "outputs": [
    {
     "name": "stdin",
     "output_type": "stream",
     "text": [
      "Enter the String: vinod\n"
     ]
    },
    {
     "name": "stdout",
     "output_type": "stream",
     "text": [
      "total vowels: 2\n",
      "total consonants 3\n"
     ]
    }
   ],
   "source": [
    "user=input(\"Enter the String:\")\n",
    "lower_case=user.lower()\n",
    "vowels=[\"a\",\"e\",\"i\",\"o\",\"u\"]\n",
    "vowel=0\n",
    "consonant=0\n",
    "for i in lower_case:\n",
    "    if i in vowels:\n",
    "        vowel=vowel+1\n",
    "    else:\n",
    "        consonant=consonant+1  \n",
    "print(\"total vowels:\",vowel)\n",
    "print(\"total consonants\",consonant)"
   ]
  },
  {
   "cell_type": "markdown",
   "id": "df9387fa-321e-48ea-ac87-3ad402c439f2",
   "metadata": {},
   "source": [
    "# 10. Write a python program to Find the Maximum Number in a List."
   ]
  },
  {
   "cell_type": "code",
   "execution_count": 17,
   "id": "25daa258-492c-460e-87a5-5a7990f3b0cc",
   "metadata": {},
   "outputs": [
    {
     "name": "stdin",
     "output_type": "stream",
     "text": [
      "enter a list :-  1,2,3,4,5,6\n"
     ]
    },
    {
     "name": "stdout",
     "output_type": "stream",
     "text": [
      "minimun number:-  1\n"
     ]
    }
   ],
   "source": [
    "user = input(\"enter a list :- \")\n",
    "list = [int(x) for x in user.split(',')]\n",
    "print(\"minimun number:- \", min(list))"
   ]
  },
  {
   "cell_type": "markdown",
   "id": "d8b410fa-7391-4457-8e97-6a91aea906e7",
   "metadata": {},
   "source": [
    "# 11. Write a python program to Find the Maximum Number in a List."
   ]
  },
  {
   "cell_type": "code",
   "execution_count": 20,
   "id": "08af321e-5827-47db-ac6f-680ea94a7a5e",
   "metadata": {},
   "outputs": [
    {
     "name": "stdin",
     "output_type": "stream",
     "text": [
      "enter a list :-  1,2,3,4,5,6\n"
     ]
    },
    {
     "name": "stdout",
     "output_type": "stream",
     "text": [
      "minimun number:-  6\n"
     ]
    }
   ],
   "source": [
    "user = input(\"enter a list :- \")\n",
    "list = [int(x) for x in user.split(',')]\n",
    "print(\"minimun number:- \", max(list))"
   ]
  },
  {
   "cell_type": "markdown",
   "id": "edb3669f-e219-4ca4-909a-5b027286827f",
   "metadata": {},
   "source": [
    "# 12. Python Program to find smallest number among three.  "
   ]
  },
  {
   "cell_type": "code",
   "execution_count": 23,
   "id": "61062801-ec93-4897-a333-ef8e19e045fa",
   "metadata": {},
   "outputs": [
    {
     "name": "stdin",
     "output_type": "stream",
     "text": [
      "enter a number:  2\n",
      "enter a number:  3\n",
      "enter a number:  4\n"
     ]
    },
    {
     "name": "stdout",
     "output_type": "stream",
     "text": [
      " smallest number among three:  2\n"
     ]
    }
   ],
   "source": [
    "input1 = int(input(\"enter a number: \"))\n",
    "input2 = int(input(\"enter a number: \"))\n",
    "input3 = int(input(\"enter a number: \"))\n",
    "print(\" smallest number among three: \",min(input1,input2,input3))"
   ]
  },
  {
   "cell_type": "markdown",
   "id": "7f7fa673-89fe-42d5-bca3-67d6d278ca67",
   "metadata": {},
   "source": [
    "# 13. Python Program to calculate the square of a given number. "
   ]
  },
  {
   "cell_type": "code",
   "execution_count": 28,
   "id": "e23a109c-a388-43d4-ad1f-02a7327523a1",
   "metadata": {},
   "outputs": [
    {
     "name": "stdin",
     "output_type": "stream",
     "text": [
      "enter a number : 5\n"
     ]
    },
    {
     "name": "stdout",
     "output_type": "stream",
     "text": [
      "square number: 25\n"
     ]
    }
   ],
   "source": [
    "user = int(input(\"enter a number :\"))\n",
    "print(\"square number:\",user*user)"
   ]
  },
  {
   "cell_type": "markdown",
   "id": "c0112e9f-e97a-471c-9e0d-675381f3c109",
   "metadata": {},
   "source": [
    "# 14. Python program to copy one string to another string. "
   ]
  },
  {
   "cell_type": "code",
   "execution_count": 33,
   "id": "95efcd28-c5db-4007-9560-3a2a0d69ab20",
   "metadata": {},
   "outputs": [
    {
     "name": "stdin",
     "output_type": "stream",
     "text": [
      "Enter the string:  python\n"
     ]
    },
    {
     "name": "stdout",
     "output_type": "stream",
     "text": [
      "String: python\n",
      "another_String: python\n"
     ]
    }
   ],
   "source": [
    "string = input(\"Enter the string: \")\n",
    "\n",
    "another_string = string\n",
    "\n",
    "print(\"String:\", string)\n",
    "print(\"another_String:\", another_string)\n"
   ]
  },
  {
   "cell_type": "markdown",
   "id": "dd8a8d3c-9f8d-4f12-be10-ce1e944ebc36",
   "metadata": {},
   "source": [
    "# 15.Python Program to sort characters of string in ascending order"
   ]
  },
  {
   "cell_type": "code",
   "execution_count": 5,
   "id": "fd712ce4-5ec9-45dd-81a5-99bec654495e",
   "metadata": {},
   "outputs": [
    {
     "name": "stdin",
     "output_type": "stream",
     "text": [
      "enter a string :-  vinod\n"
     ]
    },
    {
     "name": "stdout",
     "output_type": "stream",
     "text": [
      "ascending order:-  ['d', 'i', 'n', 'o', 'v']\n"
     ]
    }
   ],
   "source": [
    "user = input(\"enter a string :- \")\n",
    "a = list(user)\n",
    "a.sort()\n",
    "print(\"ascending order:- \",a)"
   ]
  },
  {
   "cell_type": "markdown",
   "id": "be3b30bf-4483-4c46-9dad-d03b3b27720d",
   "metadata": {},
   "source": [
    "# 16. Python Program to sort character of string in descending order. "
   ]
  },
  {
   "cell_type": "code",
   "execution_count": 8,
   "id": "6841faf8-2ed6-420f-82d6-01b472565619",
   "metadata": {},
   "outputs": [
    {
     "name": "stdin",
     "output_type": "stream",
     "text": [
      "enter a string :-  vinod\n"
     ]
    },
    {
     "name": "stdout",
     "output_type": "stream",
     "text": [
      "descending order:-  ['v', 'o', 'n', 'i', 'd']\n"
     ]
    }
   ],
   "source": [
    "user = input(\"enter a string :- \")\n",
    "a = list(user)\n",
    "a.sort()\n",
    "print(\"descending order:- \",a[::-1])"
   ]
  },
  {
   "cell_type": "markdown",
   "id": "29374ce7-0a05-4bbd-b723-098a509fa4ef",
   "metadata": {},
   "source": [
    "# 17. Write a program in Python to swap two numbers without using third variable"
   ]
  },
  {
   "cell_type": "code",
   "execution_count": 35,
   "id": "019800c6-8377-49d3-ab9e-93fa9a987a88",
   "metadata": {},
   "outputs": [
    {
     "name": "stdin",
     "output_type": "stream",
     "text": [
      " a = 7\n",
      "b = 8\n"
     ]
    },
    {
     "name": "stdout",
     "output_type": "stream",
     "text": [
      "After Swapping:  a = 8\n",
      "After swapping:  b= 7\n"
     ]
    }
   ],
   "source": [
    "a=int(input(\" a =\"))\n",
    "b=int(input(\"b =\"))\n",
    "c=a\n",
    "a=b\n",
    "b=c\n",
    "print(\"After Swapping: \",\"a =\",a)\n",
    "print(\"After swapping: \",\"b=\",b)"
   ]
  },
  {
   "cell_type": "markdown",
   "id": "90dff553-5a05-4410-8392-7749b867c28b",
   "metadata": {},
   "source": [
    "# 19.Fibonacci Series"
   ]
  },
  {
   "cell_type": "code",
   "execution_count": 40,
   "id": "3b9514d6-bf8f-4726-ba05-2fa6803ea7b3",
   "metadata": {},
   "outputs": [
    {
     "name": "stdin",
     "output_type": "stream",
     "text": [
      " 22\n"
     ]
    },
    {
     "name": "stdout",
     "output_type": "stream",
     "text": [
      "fibinocci series:\n",
      "0 1 1 2 3 5 8 13 21 34 55 89 144 233 377 610 987 1597 2584 4181 6765 10946 "
     ]
    }
   ],
   "source": [
    "def fibinocci(n):\n",
    "    n1,n2=0,1\n",
    "    sum=0\n",
    "    if n<0:\n",
    "        print(\"Please enter positive number.\")\n",
    "    else:\n",
    "        print(\"fibinocci series:\")\n",
    "        for i in range(0,n):\n",
    "            print(sum,end=' ')\n",
    "            n1=n2\n",
    "            n2=sum\n",
    "            sum=n1+n2\n",
    "n=int(input())\n",
    "fibinocci(n)"
   ]
  },
  {
   "cell_type": "markdown",
   "id": "658782c8-a6f1-492c-959d-e7bf30edf9a1",
   "metadata": {},
   "source": [
    "# 20.Count Paranthesis in String"
   ]
  },
  {
   "cell_type": "code",
   "execution_count": 47,
   "id": "21f2d3db-56b0-4072-ab9b-8bc688941e1f",
   "metadata": {},
   "outputs": [
    {
     "name": "stdin",
     "output_type": "stream",
     "text": [
      "Enter Your String:  vinodreddugone\n"
     ]
    },
    {
     "name": "stdout",
     "output_type": "stream",
     "text": [
      "Number of '(' is: 0\n",
      "Number of ')' is: 0\n"
     ]
    }
   ],
   "source": [
    "def count_paranthesis(s):\n",
    "    open_paranthesis = s.count('(')\n",
    "    close_paranthesis = s.count(')')\n",
    "    return open_paranthesis, close_paranthesis\n",
    "\n",
    "input_string = input(\"Enter Your String: \")\n",
    "open_count, close_count = count_paranthesis(input_string)\n",
    "print(\"Number of '(' is:\",open_count)\n",
    "print(\"Number of ')' is:\",close_count)"
   ]
  },
  {
   "cell_type": "markdown",
   "id": "f3857e6c-3958-472b-8c06-5de5325fadb2",
   "metadata": {},
   "source": [
    "# 21.First non repeting in string"
   ]
  },
  {
   "cell_type": "code",
   "execution_count": 52,
   "id": "c0ab7f7b-0df5-4a91-a440-fd3d531b161f",
   "metadata": {},
   "outputs": [
    {
     "name": "stdin",
     "output_type": "stream",
     "text": [
      " ramaraju\n"
     ]
    },
    {
     "name": "stdout",
     "output_type": "stream",
     "text": [
      "First non-repeating character is : m\n"
     ]
    }
   ],
   "source": [
    "def non_repeating(s):\n",
    "    flag = 0\n",
    "    for i in s:\n",
    "        if s.count(i) == 1:\n",
    "            print(\"First non-repeating character is :\", i)\n",
    "            flag = 1\n",
    "            break\n",
    "    if flag == 0:\n",
    "        print(\"No non-repeating character\")\n",
    "s=input()\n",
    "non_repeating(s)"
   ]
  },
  {
   "cell_type": "markdown",
   "id": "d60cd3d2-f5e8-4e23-9f1e-1d3c1ee9db51",
   "metadata": {},
   "source": [
    "# 22.Python program to reverse a string  using function"
   ]
  },
  {
   "cell_type": "code",
   "execution_count": 55,
   "id": "a8e7cd5d-acdc-4d33-a310-e6a9e507e6dd",
   "metadata": {},
   "outputs": [
    {
     "name": "stdout",
     "output_type": "stream",
     "text": [
      "The reversed string is : "
     ]
    },
    {
     "name": "stdin",
     "output_type": "stream",
     "text": [
      "Enter the string: vinod\n"
     ]
    },
    {
     "data": {
      "text/plain": [
       "'doniv'"
      ]
     },
     "execution_count": 55,
     "metadata": {},
     "output_type": "execute_result"
    }
   ],
   "source": [
    "def reverse(s):                                            #6\n",
    "    s = input(\"Enter the string:\")\n",
    "    str = \"\"\n",
    "    for i in s:\n",
    "        str = i + str\n",
    "    return str\n",
    "    \n",
    "print(\"The reversed string is : \", end=\"\")\n",
    "\n",
    "reverse(s)"
   ]
  },
  {
   "cell_type": "code",
   "execution_count": null,
   "id": "9517f740-8675-42b6-98b8-c96b81e07afc",
   "metadata": {},
   "outputs": [],
   "source": []
  }
 ],
 "metadata": {
  "kernelspec": {
   "display_name": "Python 3 (ipykernel)",
   "language": "python",
   "name": "python3"
  },
  "language_info": {
   "codemirror_mode": {
    "name": "ipython",
    "version": 3
   },
   "file_extension": ".py",
   "mimetype": "text/x-python",
   "name": "python",
   "nbconvert_exporter": "python",
   "pygments_lexer": "ipython3",
   "version": "3.12.4"
  }
 },
 "nbformat": 4,
 "nbformat_minor": 5
}
